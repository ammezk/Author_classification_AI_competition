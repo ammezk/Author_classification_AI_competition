{
 "cells": [
  {
   "cell_type": "markdown",
   "metadata": {},
   "source": [
    "# 데이콘 기초 베이스 라인 코드 필사"
   ]
  },
  {
   "cell_type": "code",
   "execution_count": 1,
   "metadata": {},
   "outputs": [],
   "source": [
    "%reload_ext autoreload\n",
    "%autoreload 2\n",
    "%matplotlib inline"
   ]
  },
  {
   "cell_type": "code",
   "execution_count": 2,
   "metadata": {},
   "outputs": [],
   "source": [
    "import pandas as pd\n",
    "\n",
    "import warnings\n",
    "warnings.filterwarnings(action='ignore')\n",
    "\n",
    "import numpy as np\n",
    "\n",
    "import tensorflow as tf\n",
    "\n",
    "from tensorflow.keras.preprocessing.sequence import pad_sequences\n",
    "from tensorflow.keras.preprocessing.text import Tokenizer\n",
    "\n",
    "import re"
   ]
  },
  {
   "cell_type": "code",
   "execution_count": 3,
   "metadata": {},
   "outputs": [],
   "source": [
    "#파일 불러오기\n",
    "train = pd.read_csv(\n",
    "    'C:\\\\Users\\\\StJho\\\\소설 작가 분류 AI 경진대회\\\\original_data\\\\train.csv',\n",
    "    encoding = 'utf-8')\n",
    "test = pd.read_csv(\n",
    "    'C:\\\\Users\\\\StJho\\\\소설 작가 분류 AI 경진대회\\\\original_data\\\\test_x.csv',\n",
    "    encoding = 'utf-8')\n",
    "sample_submission = pd.read_csv(\n",
    "    'C:\\\\Users\\\\StJho\\\\소설 작가 분류 AI 경진대회\\\\original_data\\\\sample_submission.csv',\n",
    "    encoding = 'utf-8')"
   ]
  },
  {
   "cell_type": "code",
   "execution_count": 4,
   "metadata": {},
   "outputs": [],
   "source": [
    "#데이터 살펴보기\n",
    "#train\n",
    "#test\n",
    "#sample_submission"
   ]
  },
  {
   "cell_type": "markdown",
   "metadata": {},
   "source": [
    "## 전처리"
   ]
  },
  {
   "cell_type": "markdown",
   "metadata": {},
   "source": [
    "### - 부호 제거"
   ]
  },
  {
   "cell_type": "code",
   "execution_count": 5,
   "metadata": {},
   "outputs": [],
   "source": [
    "#부호 제거 함수: alpha_num\n",
    "def alpha_num(text):\n",
    "    return re.sub(r'[^A-Za-z0-9 ]', '', text)    #빈칸이 포함되어 있음에 주의\n",
    "\n",
    "#부호 제거 함수 적용\n",
    "train['text'] = train['text'].apply(alpha_num)"
   ]
  },
  {
   "cell_type": "code",
   "execution_count": 6,
   "metadata": {
    "collapsed": true
   },
   "outputs": [
    {
     "data": {
      "text/html": [
       "<div>\n",
       "<style scoped>\n",
       "    .dataframe tbody tr th:only-of-type {\n",
       "        vertical-align: middle;\n",
       "    }\n",
       "\n",
       "    .dataframe tbody tr th {\n",
       "        vertical-align: top;\n",
       "    }\n",
       "\n",
       "    .dataframe thead th {\n",
       "        text-align: right;\n",
       "    }\n",
       "</style>\n",
       "<table border=\"1\" class=\"dataframe\">\n",
       "  <thead>\n",
       "    <tr style=\"text-align: right;\">\n",
       "      <th></th>\n",
       "      <th>index</th>\n",
       "      <th>text</th>\n",
       "      <th>author</th>\n",
       "    </tr>\n",
       "  </thead>\n",
       "  <tbody>\n",
       "    <tr>\n",
       "      <th>0</th>\n",
       "      <td>0</td>\n",
       "      <td>He was almost choking There was so much so muc...</td>\n",
       "      <td>3</td>\n",
       "    </tr>\n",
       "    <tr>\n",
       "      <th>1</th>\n",
       "      <td>1</td>\n",
       "      <td>Your sister asked for it I suppose</td>\n",
       "      <td>2</td>\n",
       "    </tr>\n",
       "    <tr>\n",
       "      <th>2</th>\n",
       "      <td>2</td>\n",
       "      <td>She was engaged one day as she walked in peru...</td>\n",
       "      <td>1</td>\n",
       "    </tr>\n",
       "    <tr>\n",
       "      <th>3</th>\n",
       "      <td>3</td>\n",
       "      <td>The captain was in the porch keeping himself c...</td>\n",
       "      <td>4</td>\n",
       "    </tr>\n",
       "    <tr>\n",
       "      <th>4</th>\n",
       "      <td>4</td>\n",
       "      <td>Have mercy gentlemen odin flung up his hands D...</td>\n",
       "      <td>3</td>\n",
       "    </tr>\n",
       "    <tr>\n",
       "      <th>...</th>\n",
       "      <td>...</td>\n",
       "      <td>...</td>\n",
       "      <td>...</td>\n",
       "    </tr>\n",
       "    <tr>\n",
       "      <th>54874</th>\n",
       "      <td>54874</td>\n",
       "      <td>Is that you Mr Smith odin whispered I hardly d...</td>\n",
       "      <td>2</td>\n",
       "    </tr>\n",
       "    <tr>\n",
       "      <th>54875</th>\n",
       "      <td>54875</td>\n",
       "      <td>I told my plan to the captain and between us w...</td>\n",
       "      <td>4</td>\n",
       "    </tr>\n",
       "    <tr>\n",
       "      <th>54876</th>\n",
       "      <td>54876</td>\n",
       "      <td>Your sincere wellwisher friend and sister LUC...</td>\n",
       "      <td>1</td>\n",
       "    </tr>\n",
       "    <tr>\n",
       "      <th>54877</th>\n",
       "      <td>54877</td>\n",
       "      <td>Then you wanted me to lend you money</td>\n",
       "      <td>3</td>\n",
       "    </tr>\n",
       "    <tr>\n",
       "      <th>54878</th>\n",
       "      <td>54878</td>\n",
       "      <td>It certainly had not occurred to me before but...</td>\n",
       "      <td>0</td>\n",
       "    </tr>\n",
       "  </tbody>\n",
       "</table>\n",
       "<p>54879 rows × 3 columns</p>\n",
       "</div>"
      ],
      "text/plain": [
       "       index                                               text  author\n",
       "0          0  He was almost choking There was so much so muc...       3\n",
       "1          1                 Your sister asked for it I suppose       2\n",
       "2          2   She was engaged one day as she walked in peru...       1\n",
       "3          3  The captain was in the porch keeping himself c...       4\n",
       "4          4  Have mercy gentlemen odin flung up his hands D...       3\n",
       "...      ...                                                ...     ...\n",
       "54874  54874  Is that you Mr Smith odin whispered I hardly d...       2\n",
       "54875  54875  I told my plan to the captain and between us w...       4\n",
       "54876  54876   Your sincere wellwisher friend and sister LUC...       1\n",
       "54877  54877               Then you wanted me to lend you money       3\n",
       "54878  54878  It certainly had not occurred to me before but...       0\n",
       "\n",
       "[54879 rows x 3 columns]"
      ]
     },
     "execution_count": 6,
     "metadata": {},
     "output_type": "execute_result"
    }
   ],
   "source": [
    "#부호 제거 여부 확인\n",
    "train"
   ]
  },
  {
   "cell_type": "markdown",
   "metadata": {},
   "source": [
    "### - 불용어 제거"
   ]
  },
  {
   "cell_type": "code",
   "execution_count": 7,
   "metadata": {},
   "outputs": [],
   "source": [
    "#불용어(stopword)란?\n",
    "#    - 자주 등장하지만 분석을 하는 것에 있어서는 큰 도움이 되지 않는 단어를 의미\n",
    "#    - NLTK에서는 100여개 이상의 불용어를 패키지 내에 미리 정의하고 있습니다.\n",
    "\n",
    "#불용어 확인\n",
    "\n",
    "#nltk 디폴트 불용어는 성능이 다소 떨어짐\n",
    "# import nltk\n",
    "# nltk.download('stopwords')\n",
    "# from nltk.corpus import stopwords\n",
    "# sws = stopwords.words('english')\n",
    "\n",
    "sws = [ \"a\", \"about\", \"above\", \"after\", \"again\", \"against\", \"all\", \"am\", \"an\", \"and\", \"any\", \"are\", \"as\", \n",
    "             \"at\", \"be\", \"because\", \"been\", \"before\", \"being\", \"below\", \"between\", \"both\", \"but\", \"by\", \"could\", \n",
    "             \"did\", \"do\", \"does\", \"doing\", \"down\", \"during\", \"each\", \"few\", \"for\", \"from\", \"further\", \"had\", \"has\", \n",
    "             \"have\", \"having\", \"he\", \"he'd\", \"he'll\", \"he's\", \"her\", \"here\", \"here's\", \"hers\", \"herself\", \"him\", \"himself\", \n",
    "             \"his\", \"how\", \"how's\", \"i\", \"i'd\", \"i'll\", \"i'm\", \"i've\", \"if\", \"in\", \"into\", \"is\", \"it\", \"it's\", \"its\", \"itself\", \n",
    "             \"let's\", \"me\", \"more\", \"most\", \"my\", \"myself\", \"nor\", \"of\", \"on\", \"once\", \"only\", \"or\", \"other\", \"ought\", \"our\", \"ours\", \n",
    "             \"ourselves\", \"out\", \"over\", \"own\", \"same\", \"she\", \"she'd\", \"she'll\", \"she's\", \"should\", \"so\", \"some\", \"such\", \"than\", \"that\", \n",
    "             \"that's\", \"the\", \"their\", \"theirs\", \"them\", \"themselves\", \"then\", \"there\", \"there's\", \"these\", \"they\", \"they'd\", \"they'll\", \n",
    "             \"they're\", \"they've\", \"this\", \"those\", \"through\", \"to\", \"too\", \"under\", \"until\", \"up\", \"very\", \"was\", \"we\", \"we'd\", \"we'll\", \n",
    "             \"we're\", \"we've\", \"were\", \"what\", \"what's\", \"when\", \"when's\", \"where\", \"where's\", \"which\", \"while\", \"who\", \"who's\", \"whom\", \n",
    "             \"why\", \"why's\", \"with\", \"would\", \"you\", \"you'd\", \"you'll\", \"you're\", \"you've\", \"your\", \"yours\", \"yourself\", \"yourselves\" ]"
   ]
  },
  {
   "cell_type": "code",
   "execution_count": 8,
   "metadata": {},
   "outputs": [],
   "source": [
    "#불용어 제거 함수: remove_stopwords\n",
    "def remove_stopwords(text):\n",
    "    final_text = []\n",
    "    for i in text.split():\n",
    "        if i.strip().lower() not in sws:\n",
    "            final_text.append(i.strip())\n",
    "    return \" \".join(final_text)"
   ]
  },
  {
   "cell_type": "markdown",
   "metadata": {},
   "source": [
    "### - 전처리 적용"
   ]
  },
  {
   "cell_type": "code",
   "execution_count": 9,
   "metadata": {},
   "outputs": [],
   "source": [
    "#소문자로 변환\n",
    "train['text'] = train['text'].str.lower()\n",
    "test['text'] = test['text'].str.lower()\n",
    "#불용어 제거\n",
    "train['text'] = train['text'].apply(remove_stopwords)\n",
    "test['text'] = test['text'].apply(remove_stopwords)"
   ]
  },
  {
   "cell_type": "markdown",
   "metadata": {},
   "source": [
    "### - Train - Test 분리"
   ]
  },
  {
   "cell_type": "code",
   "execution_count": 10,
   "metadata": {},
   "outputs": [],
   "source": [
    "X_train = np.array([x for x in train['text']])\n",
    "X_test = np.array([x for x in test['text']])\n",
    "y_train = np.array([x for x in train['author']])"
   ]
  },
  {
   "cell_type": "markdown",
   "metadata": {},
   "source": [
    "## 모델링"
   ]
  },
  {
   "cell_type": "code",
   "execution_count": 11,
   "metadata": {},
   "outputs": [],
   "source": [
    "#파라미터 설정\n",
    "vocab_size = 20000\n",
    "embedding_dim = 16\n",
    "max_length = 500\n",
    "padding_type = 'post'\n",
    "#oov_tok = \"<OOV>\""
   ]
  },
  {
   "cell_type": "code",
   "execution_count": 12,
   "metadata": {},
   "outputs": [],
   "source": [
    "\n",
    "#tokenizer에 fit\n",
    "tokenizer = Tokenizer(num_words = vocab_size)    #oov_token = oov_tok\n",
    "tokenizer.fit_on_texts(X_train)\n",
    "word_index = tokenizer.word_index"
   ]
  },
  {
   "cell_type": "code",
   "execution_count": 13,
   "metadata": {},
   "outputs": [],
   "source": [
    "\n",
    "#데이터를 sequence로 변환해주고 padding 해줍니다.\n",
    "train_sequences = tokenizer.texts_to_sequences(X_train)\n",
    "train_padded = pad_sequences(train_sequences,\n",
    "                             padding=padding_type,\n",
    "                             maxlen=max_length)\n",
    "\n",
    "test_sequences = tokenizer.texts_to_sequences(X_test)\n",
    "test_padded = pad_sequences(test_sequences,\n",
    "                           padding=padding_type,\n",
    "                           maxlen=max_length)"
   ]
  },
  {
   "cell_type": "code",
   "execution_count": 14,
   "metadata": {},
   "outputs": [],
   "source": [
    "\n",
    "#가벼운 NLP모델 생성\n",
    "model = tf.keras.Sequential([\n",
    "    tf.keras.layers.Embedding(vocab_size, embedding_dim, input_length=max_length),\n",
    "    tf.keras.layers.GlobalAveragePooling1D(),\n",
    "    tf.keras.layers.Dense(24, activation='relu'),\n",
    "    tf.keras.layers.Dense(5, activation='softmax')\n",
    "])"
   ]
  },
  {
   "cell_type": "code",
   "execution_count": 15,
   "metadata": {
    "collapsed": true
   },
   "outputs": [
    {
     "name": "stdout",
     "output_type": "stream",
     "text": [
      "Model: \"sequential\"\n",
      "_________________________________________________________________\n",
      "Layer (type)                 Output Shape              Param #   \n",
      "=================================================================\n",
      "embedding (Embedding)        (None, 500, 16)           320000    \n",
      "_________________________________________________________________\n",
      "global_average_pooling1d (Gl (None, 16)                0         \n",
      "_________________________________________________________________\n",
      "dense (Dense)                (None, 24)                408       \n",
      "_________________________________________________________________\n",
      "dense_1 (Dense)              (None, 5)                 125       \n",
      "=================================================================\n",
      "Total params: 320,533\n",
      "Trainable params: 320,533\n",
      "Non-trainable params: 0\n",
      "_________________________________________________________________\n",
      "None\n"
     ]
    }
   ],
   "source": [
    "\n",
    "#complete model\n",
    "model.compile(loss='sparse_categorical_crossentropy',\n",
    "             optimizer='adam',\n",
    "             metrics=['accuracy'])\n",
    "\n",
    "#model summary\n",
    "print(model.summary())"
   ]
  },
  {
   "cell_type": "code",
   "execution_count": 16,
   "metadata": {},
   "outputs": [
    {
     "name": "stdout",
     "output_type": "stream",
     "text": [
      "Epoch 1/20\n",
      "1372/1372 - 5s - loss: 1.5672 - accuracy: 0.2781 - val_loss: 1.5570 - val_accuracy: 0.2779\n",
      "Epoch 2/20\n",
      "1372/1372 - 5s - loss: 1.4310 - accuracy: 0.3916 - val_loss: 1.2866 - val_accuracy: 0.4776\n",
      "Epoch 3/20\n",
      "1372/1372 - 5s - loss: 1.1906 - accuracy: 0.4986 - val_loss: 1.1574 - val_accuracy: 0.5257\n",
      "Epoch 4/20\n",
      "1372/1372 - 5s - loss: 1.0866 - accuracy: 0.5539 - val_loss: 1.0888 - val_accuracy: 0.5638\n",
      "Epoch 5/20\n",
      "1372/1372 - 5s - loss: 0.9980 - accuracy: 0.6125 - val_loss: 1.0431 - val_accuracy: 0.5842\n",
      "Epoch 6/20\n",
      "1372/1372 - 5s - loss: 0.9011 - accuracy: 0.6682 - val_loss: 0.9588 - val_accuracy: 0.6310\n",
      "Epoch 7/20\n",
      "1372/1372 - 5s - loss: 0.8189 - accuracy: 0.6996 - val_loss: 0.8919 - val_accuracy: 0.6608\n",
      "Epoch 8/20\n",
      "1372/1372 - 5s - loss: 0.7565 - accuracy: 0.7242 - val_loss: 0.8421 - val_accuracy: 0.6931\n",
      "Epoch 9/20\n",
      "1372/1372 - 5s - loss: 0.7052 - accuracy: 0.7450 - val_loss: 0.8405 - val_accuracy: 0.6799\n",
      "Epoch 10/20\n",
      "1372/1372 - 5s - loss: 0.6591 - accuracy: 0.7629 - val_loss: 0.7929 - val_accuracy: 0.7080\n",
      "Epoch 11/20\n",
      "1372/1372 - 5s - loss: 0.6238 - accuracy: 0.7775 - val_loss: 0.7844 - val_accuracy: 0.7074\n",
      "Epoch 12/20\n",
      "1372/1372 - 5s - loss: 0.5898 - accuracy: 0.7891 - val_loss: 0.7601 - val_accuracy: 0.7197\n",
      "Epoch 13/20\n",
      "1372/1372 - 5s - loss: 0.5619 - accuracy: 0.8019 - val_loss: 0.7761 - val_accuracy: 0.7143\n",
      "Epoch 14/20\n",
      "1372/1372 - 5s - loss: 0.5344 - accuracy: 0.8084 - val_loss: 0.7480 - val_accuracy: 0.7243\n",
      "Epoch 15/20\n",
      "1372/1372 - 5s - loss: 0.5087 - accuracy: 0.8196 - val_loss: 0.7623 - val_accuracy: 0.7239\n",
      "Epoch 16/20\n",
      "1372/1372 - 5s - loss: 0.4920 - accuracy: 0.8239 - val_loss: 0.7723 - val_accuracy: 0.7221\n",
      "Epoch 17/20\n",
      "1372/1372 - 5s - loss: 0.4674 - accuracy: 0.8350 - val_loss: 0.7387 - val_accuracy: 0.7362\n",
      "Epoch 18/20\n",
      "1372/1372 - 5s - loss: 0.4512 - accuracy: 0.8386 - val_loss: 0.7379 - val_accuracy: 0.7351\n",
      "Epoch 19/20\n",
      "1372/1372 - 5s - loss: 0.4336 - accuracy: 0.8465 - val_loss: 0.7345 - val_accuracy: 0.7402\n",
      "Epoch 20/20\n",
      "1372/1372 - 5s - loss: 0.4213 - accuracy: 0.8501 - val_loss: 0.7357 - val_accuracy: 0.7407\n"
     ]
    }
   ],
   "source": [
    "\n",
    "#fit model\n",
    "num_epochs = 20\n",
    "history = model.fit(train_padded, y_train,\n",
    "                   epochs=num_epochs, verbose=2,\n",
    "                   validation_split=0.2)"
   ]
  },
  {
   "cell_type": "code",
   "execution_count": 17,
   "metadata": {},
   "outputs": [
    {
     "name": "stdout",
     "output_type": "stream",
     "text": [
      "WARNING:tensorflow:From <ipython-input-17-ebef4a898a20>:2: Sequential.predict_proba (from tensorflow.python.keras.engine.sequential) is deprecated and will be removed after 2021-01-01.\n",
      "Instructions for updating:\n",
      "Please use `model.predict()` instead.\n"
     ]
    }
   ],
   "source": [
    "\n",
    "#predict values\n",
    "pred = model.predict_proba(test_padded)"
   ]
  },
  {
   "cell_type": "code",
   "execution_count": 18,
   "metadata": {},
   "outputs": [
    {
     "data": {
      "text/plain": [
       "array([[5.66736480e-06, 9.45329666e-01, 4.53618206e-02, 9.24605317e-03,\n",
       "        5.67872412e-05],\n",
       "       [1.25901401e-01, 5.05803227e-01, 1.66990459e-01, 3.37314606e-02,\n",
       "        1.67573512e-01],\n",
       "       [9.94814157e-01, 1.96005785e-05, 2.51033762e-05, 3.01776026e-08,\n",
       "        5.14121260e-03],\n",
       "       ...,\n",
       "       [7.31001865e-06, 9.99977708e-01, 1.48049480e-06, 1.21077517e-06,\n",
       "        1.23389109e-05],\n",
       "       [3.07849077e-05, 9.99853015e-01, 1.03979501e-05, 2.81602439e-07,\n",
       "        1.05613064e-04],\n",
       "       [9.98325169e-01, 1.71702936e-07, 5.75869635e-05, 6.33941539e-08,\n",
       "        1.61695969e-03]], dtype=float32)"
      ]
     },
     "execution_count": 18,
     "metadata": {},
     "output_type": "execute_result"
    }
   ],
   "source": [
    "\n",
    "#check\n",
    "pred"
   ]
  },
  {
   "cell_type": "code",
   "execution_count": 19,
   "metadata": {},
   "outputs": [
    {
     "data": {
      "text/html": [
       "<div>\n",
       "<style scoped>\n",
       "    .dataframe tbody tr th:only-of-type {\n",
       "        vertical-align: middle;\n",
       "    }\n",
       "\n",
       "    .dataframe tbody tr th {\n",
       "        vertical-align: top;\n",
       "    }\n",
       "\n",
       "    .dataframe thead th {\n",
       "        text-align: right;\n",
       "    }\n",
       "</style>\n",
       "<table border=\"1\" class=\"dataframe\">\n",
       "  <thead>\n",
       "    <tr style=\"text-align: right;\">\n",
       "      <th></th>\n",
       "      <th>index</th>\n",
       "      <th>0</th>\n",
       "      <th>1</th>\n",
       "      <th>2</th>\n",
       "      <th>3</th>\n",
       "      <th>4</th>\n",
       "    </tr>\n",
       "  </thead>\n",
       "  <tbody>\n",
       "    <tr>\n",
       "      <th>0</th>\n",
       "      <td>0</td>\n",
       "      <td>0.000006</td>\n",
       "      <td>9.453297e-01</td>\n",
       "      <td>4.536182e-02</td>\n",
       "      <td>9.246053e-03</td>\n",
       "      <td>5.678724e-05</td>\n",
       "    </tr>\n",
       "    <tr>\n",
       "      <th>1</th>\n",
       "      <td>1</td>\n",
       "      <td>0.125901</td>\n",
       "      <td>5.058032e-01</td>\n",
       "      <td>1.669905e-01</td>\n",
       "      <td>3.373146e-02</td>\n",
       "      <td>1.675735e-01</td>\n",
       "    </tr>\n",
       "    <tr>\n",
       "      <th>2</th>\n",
       "      <td>2</td>\n",
       "      <td>0.994814</td>\n",
       "      <td>1.960058e-05</td>\n",
       "      <td>2.510338e-05</td>\n",
       "      <td>3.017760e-08</td>\n",
       "      <td>5.141213e-03</td>\n",
       "    </tr>\n",
       "    <tr>\n",
       "      <th>3</th>\n",
       "      <td>3</td>\n",
       "      <td>0.000074</td>\n",
       "      <td>6.744195e-08</td>\n",
       "      <td>9.979218e-01</td>\n",
       "      <td>8.313689e-11</td>\n",
       "      <td>2.003884e-03</td>\n",
       "    </tr>\n",
       "    <tr>\n",
       "      <th>4</th>\n",
       "      <td>4</td>\n",
       "      <td>0.978064</td>\n",
       "      <td>2.780798e-04</td>\n",
       "      <td>7.364915e-04</td>\n",
       "      <td>2.025756e-02</td>\n",
       "      <td>6.636026e-04</td>\n",
       "    </tr>\n",
       "    <tr>\n",
       "      <th>...</th>\n",
       "      <td>...</td>\n",
       "      <td>...</td>\n",
       "      <td>...</td>\n",
       "      <td>...</td>\n",
       "      <td>...</td>\n",
       "      <td>...</td>\n",
       "    </tr>\n",
       "    <tr>\n",
       "      <th>19612</th>\n",
       "      <td>19612</td>\n",
       "      <td>0.000002</td>\n",
       "      <td>9.999983e-01</td>\n",
       "      <td>2.304572e-14</td>\n",
       "      <td>3.071531e-14</td>\n",
       "      <td>4.188477e-11</td>\n",
       "    </tr>\n",
       "    <tr>\n",
       "      <th>19613</th>\n",
       "      <td>19613</td>\n",
       "      <td>0.015678</td>\n",
       "      <td>7.640864e-06</td>\n",
       "      <td>7.499747e-04</td>\n",
       "      <td>7.259653e-13</td>\n",
       "      <td>9.835644e-01</td>\n",
       "    </tr>\n",
       "    <tr>\n",
       "      <th>19614</th>\n",
       "      <td>19614</td>\n",
       "      <td>0.000007</td>\n",
       "      <td>9.999777e-01</td>\n",
       "      <td>1.480495e-06</td>\n",
       "      <td>1.210775e-06</td>\n",
       "      <td>1.233891e-05</td>\n",
       "    </tr>\n",
       "    <tr>\n",
       "      <th>19615</th>\n",
       "      <td>19615</td>\n",
       "      <td>0.000031</td>\n",
       "      <td>9.998530e-01</td>\n",
       "      <td>1.039795e-05</td>\n",
       "      <td>2.816024e-07</td>\n",
       "      <td>1.056131e-04</td>\n",
       "    </tr>\n",
       "    <tr>\n",
       "      <th>19616</th>\n",
       "      <td>19616</td>\n",
       "      <td>0.998325</td>\n",
       "      <td>1.717029e-07</td>\n",
       "      <td>5.758696e-05</td>\n",
       "      <td>6.339415e-08</td>\n",
       "      <td>1.616960e-03</td>\n",
       "    </tr>\n",
       "  </tbody>\n",
       "</table>\n",
       "<p>19617 rows × 6 columns</p>\n",
       "</div>"
      ],
      "text/plain": [
       "       index         0             1             2             3             4\n",
       "0          0  0.000006  9.453297e-01  4.536182e-02  9.246053e-03  5.678724e-05\n",
       "1          1  0.125901  5.058032e-01  1.669905e-01  3.373146e-02  1.675735e-01\n",
       "2          2  0.994814  1.960058e-05  2.510338e-05  3.017760e-08  5.141213e-03\n",
       "3          3  0.000074  6.744195e-08  9.979218e-01  8.313689e-11  2.003884e-03\n",
       "4          4  0.978064  2.780798e-04  7.364915e-04  2.025756e-02  6.636026e-04\n",
       "...      ...       ...           ...           ...           ...           ...\n",
       "19612  19612  0.000002  9.999983e-01  2.304572e-14  3.071531e-14  4.188477e-11\n",
       "19613  19613  0.015678  7.640864e-06  7.499747e-04  7.259653e-13  9.835644e-01\n",
       "19614  19614  0.000007  9.999777e-01  1.480495e-06  1.210775e-06  1.233891e-05\n",
       "19615  19615  0.000031  9.998530e-01  1.039795e-05  2.816024e-07  1.056131e-04\n",
       "19616  19616  0.998325  1.717029e-07  5.758696e-05  6.339415e-08  1.616960e-03\n",
       "\n",
       "[19617 rows x 6 columns]"
      ]
     },
     "execution_count": 19,
     "metadata": {},
     "output_type": "execute_result"
    }
   ],
   "source": [
    "\n",
    "#make submission\n",
    "sample_submission[['0', '1', '2', '3', '4']] = pred\n",
    "sample_submission.to_csv('..\\\\submission\\\\submission.csv',\n",
    "                         index = False, encoding = 'utf-8')\n",
    "sample_submission"
   ]
  }
 ],
 "metadata": {
  "kernelspec": {
   "display_name": "Python 3",
   "language": "python",
   "name": "python3"
  },
  "language_info": {
   "codemirror_mode": {
    "name": "ipython",
    "version": 3
   },
   "file_extension": ".py",
   "mimetype": "text/x-python",
   "name": "python",
   "nbconvert_exporter": "python",
   "pygments_lexer": "ipython3",
   "version": "3.8.3"
  }
 },
 "nbformat": 4,
 "nbformat_minor": 4
}
